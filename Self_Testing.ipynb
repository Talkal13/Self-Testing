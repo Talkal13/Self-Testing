{
 "cells": [
  {
   "cell_type": "markdown",
   "id": "6c100b7b",
   "metadata": {},
   "source": [
    "# Self Testing of Quantum systems"
   ]
  },
  {
   "cell_type": "markdown",
   "id": "ff1fea2b",
   "metadata": {},
   "source": [
    "Lets imagine two students Alice and Bob located in different planets and some source $S$ that generates two qubits. It sends the first one to alice denoted as $|\\psi\\rangle_A$ and the second one to Bob $|\\psi \\rangle_B$. Neither Alice nor Bob know how their labs work. They each have some settings called $x$ for Alice and $y$ for Bob that can take the values $x, y = \\{ 0, 1 \\}$ but the dont really know how it affects to their machines. All they see after using a setting is some value $a$ for Alice and $b$ for Bob that can be $a, b = \\{ +1, -1 \\}$. Due to the distance, they can not comunicate each other the settings they are going to be using when reciving the qubit but they are able to share their results. So Alice and Bob choice of settings have no effect on the other but they can know the result and the setting after both of them make the experiment."
   ]
  },
  {
   "cell_type": "code",
   "execution_count": 1,
   "id": "c4c4bae7",
   "metadata": {},
   "outputs": [],
   "source": [
    "import numpy as np\n",
    "# Importing standard Qiskit libraries\n",
    "from qiskit import QuantumCircuit, transpile, Aer, IBMQ, QuantumRegister, ClassicalRegister, execute\n",
    "from qiskit.tools.jupyter import *\n",
    "from qiskit.visualization import *\n",
    "from ibm_quantum_widgets import *\n",
    "from math import sqrt\n",
    "from qiskit.quantum_info import Statevector\n",
    "\n",
    "\n",
    "# Loading your IBM Q account(s)\n",
    "provider = IBMQ.load_account()\n",
    "simulator = Aer.get_backend('aer_simulator')\n",
    "svsim = Aer.get_backend('statevector_simulator') \n",
    "\n",
    "COUNTS = 1000000"
   ]
  },
  {
   "cell_type": "markdown",
   "id": "86c2d6c7",
   "metadata": {},
   "source": [
    "They are also told tha the machine generates both qubit in the state  $|\\psi \\rangle = \\frac{1}{\\sqrt{2}} (|0 \\rangle_A |0\\rangle_B + |1\\rangle_A |1\\rangle_B)$. They are very suspicious of the company that created the source so they wanted to make sure with no knowledge of the internal workings of the machine that such source is in fact generated the aboved state. In order to do that they take a set of correlations $p(ab|xy)$. Every time Alice and Bob get a result they share their result and setting with each other in order to get the full set of statistics."
   ]
  },
  {
   "cell_type": "code",
   "execution_count": 2,
   "id": "c23437b0",
   "metadata": {
    "slideshow": {
     "slide_type": ""
    }
   },
   "outputs": [],
   "source": [
    "# Source Code\n",
    "def generate():\n",
    "    qc = QuantumCircuit(2, name=\"Source\")\n",
    "    # Here goes the code for the generation of the state\n",
    "    qc.h(0)\n",
    "    qc.cx(0, 1)\n",
    "    return qc"
   ]
  },
  {
   "cell_type": "code",
   "execution_count": 3,
   "id": "f1436499",
   "metadata": {},
   "outputs": [],
   "source": [
    "\n",
    "    \n",
    "def run(m : list, x : int):\n",
    "    ''' \n",
    "    @i: index of the local qubit\n",
    "    @x: setting of the machine\n",
    "    '''\n",
    "    qc = QuantumCircuit(1, name=str(x))\n",
    "    if type(m[x]) is list:\n",
    "        for gate in m[x]:\n",
    "            qc.append(gate, [0])\n",
    "    else:\n",
    "        qc.append(m[x], [0])\n",
    "    return qc.to_gate()\n",
    "\n",
    "    \n",
    "    \n",
    "def measure(qc):\n",
    "    # Run and get counts\n",
    "    result = execute(qc, simulator, shots=COUNTS, seed_simulator=5556, seed_transpiler=5556).result()\n",
    "    counts = result.get_counts(qc)\n",
    "    return counts\n",
    "\n",
    "def measure_statevector(qc):\n",
    "    result = execute(qc, svsim, shots=1).result()\n",
    "    return Statevector(result.get_statevector())\n"
   ]
  },
  {
   "cell_type": "code",
   "execution_count": 4,
   "id": "9cdc4276",
   "metadata": {},
   "outputs": [
    {
     "name": "stdout",
     "output_type": "stream",
     "text": [
      "% \\documentclass[preview]{standalone}\n",
      "% If the image is too large to fit on this documentclass use\n",
      "\\documentclass[draft]{beamer}\n",
      "% img_width = 2, img_depth = 4\n",
      "\\usepackage[size=custom,height=10,width=12,scale=0.7]{beamerposter}\n",
      "% instead and customize the height and width (in cm) to fit.\n",
      "% Large images may run out of memory quickly.\n",
      "% To fix this use the LuaLaTeX compiler, which dynamically\n",
      "% allocates memory.\n",
      "\\usepackage[braket, qm]{qcircuit}\n",
      "\\usepackage{amsmath}\n",
      "\\pdfmapfile{+sansmathaccent.map}\n",
      "% \\usepackage[landscape]{geometry}\n",
      "% Comment out the above line if using the beamer documentclass.\n",
      "\\begin{document}\n",
      "\n",
      "\\begin{equation*}\n",
      "    \\Qcircuit @C=1.0em @R=0.2em @!R {\n",
      "\t \t\\lstick{ {q}_{0} :  } & \\multigate{1}{\\mathrm{Source}} & \\gate{\\mathrm{I}} & \\qw & \\qw\\\\\n",
      "\t \t\\lstick{ {q}_{1} :  } & \\ghost{\\mathrm{Source}} & \\gate{\\mathrm{H}} & \\qw & \\qw\\\\\n",
      "\t }\n",
      "\\end{equation*}\n",
      "\n",
      "\\end{document}\n"
     ]
    }
   ],
   "source": [
    "def alice():\n",
    "    from qiskit.circuit.library import HGate, IGate\n",
    "    m = [IGate(), HGate()]\n",
    "    return m\n",
    "\n",
    "def bob():\n",
    "    from  qiskit.circuit.library import RYGate, HGate, XGate, ZGate\n",
    "    from math import pi\n",
    "    theta = pi/4\n",
    "    m = [[RYGate(theta), HGate()], [RYGate(theta)]]\n",
    "    return m\n",
    "\n",
    "al = alice()\n",
    "bo = bob()\n",
    "\n",
    "qcd = QuantumCircuit(2)\n",
    "qcd.append(generate(), [0, 1])\n",
    "qcd.append(al[0], [0])\n",
    "qcd.append(al[1], [1])\n",
    "print(qcd.draw(\"latex_source\"))\n",
    "    "
   ]
  },
  {
   "cell_type": "code",
   "execution_count": 5,
   "id": "ca8ab141",
   "metadata": {
    "scrolled": false
   },
   "outputs": [
    {
     "data": {
      "text/plain": [
       "{'xy = 00': {'01': 0.07341, '11': 0.427196, '10': 0.073359, '00': 0.426035},\n",
       " 'xy = 01': {'01': 0.07341, '11': 0.427196, '10': 0.073359, '00': 0.426035},\n",
       " 'xy = 10': {'01': 0.07341, '11': 0.427196, '10': 0.073359, '00': 0.426035},\n",
       " 'xy = 11': {'11': 0.073289, '00': 0.07313, '10': 0.427266, '01': 0.426315}}"
      ]
     },
     "execution_count": 5,
     "metadata": {},
     "output_type": "execute_result"
    }
   ],
   "source": [
    "t = {'0' : 1, '1': -1}\n",
    "correlations = {}\n",
    "for x in range(2):\n",
    "    for y in range(2):\n",
    "        qc = generate()\n",
    "        qc.append(run(al, x), [0])\n",
    "        qc.append(run(bo, y), [1])\n",
    "        qc.measure_all()\n",
    "        counts = measure(qc)\n",
    "        corr = {k : v / COUNTS for k, v in counts.items()}\n",
    "        correlations['xy = ' + str(x) + str(y)] = corr\n",
    "correlations\n",
    "\n"
   ]
  },
  {
   "cell_type": "code",
   "execution_count": 6,
   "id": "47b58c51",
   "metadata": {},
   "outputs": [
    {
     "name": "stdout",
     "output_type": "stream",
     "text": [
      "\\hline \n",
      "$(0,0)$ & $0.426035$ & $0.07341$ & $0.073359$ & $0.427196$ \\\\ \n",
      "\\hline \n",
      "$(0,1)$ & $0.426035$ & $0.07341$ & $0.073359$ & $0.427196$ \\\\ \n",
      "\\hline \n",
      "$(1,0)$ & $0.426035$ & $0.07341$ & $0.073359$ & $0.427196$ \\\\ \n",
      "\\hline \n",
      "$(1,1)$ & $0.07313$ & $0.426315$ & $0.427266$ & $0.073289$ \\\\ \n",
      "\n"
     ]
    }
   ],
   "source": [
    "def latex_correlations(correlations):\n",
    "    s = \"\"\n",
    "    for k, v in correlations.items():\n",
    "        s += \"\\\\hline \\n$(\" + k[5] + \",\" + k[6] + \")$\"\n",
    "        prob = [0, 0, 0, 0]\n",
    "        for ki, vi in v.items():\n",
    "            prob[int(ki, 2)] = vi\n",
    "        for i in prob:\n",
    "            s += \" & $\" + str(i) + \"$\"\n",
    "        s += \" \\\\\\\\ \\n\"\n",
    "    return s\n",
    "print(latex_correlations(correlations))"
   ]
  },
  {
   "cell_type": "markdown",
   "id": "2729b016",
   "metadata": {},
   "source": [
    "The above result shows the correlations found by Alice and bob for each of the settings they can mix together."
   ]
  },
  {
   "cell_type": "code",
   "execution_count": 7,
   "id": "f0220aae",
   "metadata": {},
   "outputs": [],
   "source": [
    "def avg(corr, t):\n",
    "    avg = []\n",
    "    for c in corr:\n",
    "        avg_c = 0\n",
    "        for res, counts in c.items():\n",
    "            val = 1\n",
    "            for eig in res:\n",
    "                val *= t[eig]\n",
    "            avg_c += val * counts\n",
    "        avg.append(avg_c)\n",
    "    return avg\n",
    "            "
   ]
  },
  {
   "cell_type": "code",
   "execution_count": 8,
   "id": "ffee0389",
   "metadata": {},
   "outputs": [
    {
     "data": {
      "text/plain": [
       "[0.706462, 0.706462, 0.706462, -0.707162]"
      ]
     },
     "execution_count": 8,
     "metadata": {},
     "output_type": "execute_result"
    }
   ],
   "source": [
    "avgs = avg(correlations.values(), t)\n",
    "avgs"
   ]
  },
  {
   "cell_type": "markdown",
   "id": "3cc47619",
   "metadata": {},
   "source": [
    "And finding the average values found by alice and Bob we can check by means of Bell's inequalities whether the correlations found are non local."
   ]
  },
  {
   "cell_type": "code",
   "execution_count": 9,
   "id": "6f824523",
   "metadata": {},
   "outputs": [
    {
     "data": {
      "text/plain": [
       "False"
      ]
     },
     "execution_count": 9,
     "metadata": {},
     "output_type": "execute_result"
    }
   ],
   "source": [
    "def CHSH(avgs):\n",
    "    return avgs[0] + avgs[1] + avgs[2] - avgs[3]\n",
    "CHSH(avgs) <= 2"
   ]
  },
  {
   "cell_type": "markdown",
   "id": "457d1be3",
   "metadata": {},
   "source": [
    "We can check that Alice and Bob's correlations violate the CHSH inequality and as such $S$ must be generating entangled qubits"
   ]
  },
  {
   "cell_type": "code",
   "execution_count": 10,
   "id": "b4e95f3b",
   "metadata": {},
   "outputs": [
    {
     "data": {
      "text/plain": [
       "2.826548"
      ]
     },
     "execution_count": 10,
     "metadata": {},
     "output_type": "execute_result"
    }
   ],
   "source": [
    "CHSH(avgs)"
   ]
  },
  {
   "cell_type": "markdown",
   "id": "4ef87470",
   "metadata": {},
   "source": [
    "And it is also close to the maximal violation of the CHSH inequality $2\\sqrt{2}$. "
   ]
  },
  {
   "cell_type": "markdown",
   "id": "73b7a6b0",
   "metadata": {},
   "source": [
    "In order to self test the state $|\\phi \\rangle = \\frac{1}{\\sqrt{2}} (|00\\rangle + |11\\rangle)$ and the local measurements $M_{a|x}$ and $N_{b|x}$. We must find and isometry that takes some state $|\\psi \\rangle$ compatible with the correlations found into the state  $|\\phi\\rangle$. Such isometry can be build from the realization that if the maximal violation is found than the mesaurements must anticomute and as such we can build an isometry in the following way"
   ]
  },
  {
   "cell_type": "code",
   "execution_count": 13,
   "id": "a81c3a26",
   "metadata": {
    "scrolled": true
   },
   "outputs": [],
   "source": [
    "def isometry():\n",
    "    ancA = QuantumRegister(1, name=\"ancA\")\n",
    "    psi = QuantumRegister(2, name=\"psi\")\n",
    "    ancB = QuantumRegister(1, name=\"ancB\")\n",
    "    qc = QuantumCircuit(ancA, psi, ancB, name=\"isometry\")\n",
    "\n",
    "    from qiskit.extensions import UnitaryGate, XGate, ZGate\n",
    "    A = [XGate(), ZGate()]\n",
    "    matrix = 1/sqrt(2) * (A[0].to_matrix() + A[1].to_matrix())\n",
    "    Za = UnitaryGate(matrix, label=\"Z_A\").control(1)\n",
    "    matrix = 1/sqrt(2) * (A[0].to_matrix() - A[1].to_matrix())\n",
    "    Xa = UnitaryGate(matrix, label=\"X_A\").control(1)\n",
    "\n",
    "    # In this example the measurements are the same\n",
    "    B = [XGate(), ZGate()]\n",
    "    matrix = 1/sqrt(2) * (B[0].to_matrix() + B[1].to_matrix())\n",
    "    Zb = UnitaryGate(matrix, label=\"Z_B\").control(1)\n",
    "    matrix = 1/sqrt(2) * (B[0].to_matrix() - B[1].to_matrix())\n",
    "    Xb = UnitaryGate(matrix, label=\"X_B\").control(1)\n",
    "\n",
    "    qc.h(0)\n",
    "    qc.h(3)\n",
    "    qc.append(Za, [0, 1])\n",
    "    qc.append(Zb, [3, 2])\n",
    "    qc.h(0)\n",
    "    qc.h(3)\n",
    "    qc.append(Xa, [0, 1])\n",
    "    qc.append(Xb, [3, 2])\n",
    "    return qc\n",
    "\n"
   ]
  },
  {
   "cell_type": "markdown",
   "id": "ccf37230",
   "metadata": {},
   "source": [
    "This isometry takes some state $|\\psi\\rangle$ embedded in $q_1$ and $q_2$ into a higher system with the ancillas qubits $q_0$ and $q_3$. $Z_A$, $Z_B$, $X_A$ and $X_B$ are built from the measurements. "
   ]
  },
  {
   "cell_type": "code",
   "execution_count": 14,
   "id": "2725f11f",
   "metadata": {},
   "outputs": [
    {
     "data": {
      "image/png": "[encoded data removed]",
      "text/plain": [
       "<Figure size 568.197x325.08 with 1 Axes>"
      ]
     },
     "execution_count": 14,
     "metadata": {},
     "output_type": "execute_result"
    }
   ],
   "source": [
    "qc = QuantumCircuit(4,2)\n",
    "\n",
    "qci = generate()\n",
    "qc.append(qci.to_instruction(), [1,2])\n",
    "qc.barrier()\n",
    "qc.append(isometry(), range(4))\n",
    "qc.barrier()\n",
    "qc.measure(0,0)\n",
    "qc.measure(3,1)\n",
    "qc.draw()"
   ]
  },
  {
   "cell_type": "code",
   "execution_count": 21,
   "id": "ea6e8eea",
   "metadata": {},
   "outputs": [
    {
     "data": {
      "text/plain": [
       "{'00': 0.499445, '11': 0.500555}"
      ]
     },
     "execution_count": 21,
     "metadata": {},
     "output_type": "execute_result"
    }
   ],
   "source": [
    "result = measure(qc)\n",
    "result = {k : v / COUNTS for k, v in result.items()}\n",
    "result"
   ]
  },
  {
   "cell_type": "markdown",
   "id": "421d7284",
   "metadata": {},
   "source": [
    "As expected the isometry has extracted the state $|\\phi\\rangle$ into the ancilla space from the state $|\\psi\\rangle$\n"
   ]
  }
 ],
 "metadata": {
  "kernelspec": {
   "display_name": "Python 3",
   "language": "python",
   "name": "python3"
  },
  "language_info": {
   "codemirror_mode": {
    "name": "ipython",
    "version": 3
   },
   "file_extension": ".py",
   "mimetype": "text/x-python",
   "name": "python",
   "nbconvert_exporter": "python",
   "pygments_lexer": "ipython3",
   "version": "3.8.8"
  }
 },
 "nbformat": 4,
 "nbformat_minor": 5
}
